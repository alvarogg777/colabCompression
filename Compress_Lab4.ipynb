{
  "nbformat": 4,
  "nbformat_minor": 0,
  "metadata": {
    "colab": {
      "name": "Compress-Lab4.ipynb",
      "version": "0.3.2",
      "provenance": [],
      "collapsed_sections": [],
      "include_colab_link": true
    },
    "kernelspec": {
      "display_name": "Python 3",
      "language": "python",
      "name": "python3"
    }
  },
  "cells": [
    {
      "cell_type": "markdown",
      "metadata": {
        "id": "view-in-github",
        "colab_type": "text"
      },
      "source": [
        "[![Open In Colab](https://colab.research.google.com/assets/colab-badge.svg)](https://colab.research.google.com/github/alvarogg777/colabCompression/blob/master/Compress_Lab4.ipynb)"
      ]
    },
    {
      "metadata": {
        "id": "R6toY6e9luFD",
        "colab_type": "code",
        "colab": {
          "base_uri": "https://localhost:8080/",
          "height": 266
        },
        "outputId": "41f31341-f0a0-44bf-a45b-6978f5517e76"
      },
      "cell_type": "code",
      "source": [
        "from matplotlib import pyplot as plt\n",
        "import numpy as np\n",
        "!git clone https://github.com/alvarogg777/colabCompression.git\n",
        "!mv colabCompression/*.ipynb . && rm -r colabCompression && jupyter nbconvert --to script *.ipynb && mv Compress_Lab1.txt lab1.py && mv Compress_Lab2.txt lab2.py && mv Compress_Lab3.txt lab3.py && rm *.ipynb && ls"
      ],
      "execution_count": 16,
      "outputs": [
        {
          "output_type": "stream",
          "text": [
            "Cloning into 'colabCompression'...\n",
            "remote: Enumerating objects: 100, done.\u001b[K\n",
            "remote: Counting objects: 100% (100/100), done.\u001b[K\n",
            "remote: Compressing objects: 100% (98/98), done.\u001b[K\n",
            "remote: Total 100 (delta 60), reused 3 (delta 0), pack-reused 0\u001b[K\n",
            "Receiving objects: 100% (100/100), 2.51 MiB | 8.88 MiB/s, done.\n",
            "Resolving deltas: 100% (60/60), done.\n",
            "[NbConvertApp] Converting notebook Compress_Lab1.ipynb to script\n",
            "[NbConvertApp] Writing 3495 bytes to Compress_Lab1.txt\n",
            "[NbConvertApp] Converting notebook Compress_Lab2.ipynb to script\n",
            "[NbConvertApp] Writing 4573 bytes to Compress_Lab2.txt\n",
            "[NbConvertApp] Converting notebook Compress_Lab3.ipynb to script\n",
            "[NbConvertApp] Writing 4914 bytes to Compress_Lab3.txt\n",
            "lab1.py  lab2.py  lab3.py  lena512.bmp\t__pycache__  sample_data\n"
          ],
          "name": "stdout"
        }
      ]
    },
    {
      "metadata": {
        "colab_type": "code",
        "colab": {},
        "id": "Bg_0_2KLD5MS"
      },
      "cell_type": "code",
      "source": [
        "import os\n",
        "lines=[]\n",
        "def removeExclamationsAndDownloads():\n",
        "  for file in os.listdir():\n",
        "    if(file.endswith('.py')):\n",
        "      with open(file) as f:\n",
        "        for line in f.readlines():\n",
        "          if(line[0]!='!' and not line.startswith('files.download')):\n",
        "            lines.append(line)\n",
        "      os.remove(file)\n",
        "      with open(file,'w') as f:\n",
        "        for line in lines:\n",
        "          f.write(line)\n",
        "removeExclamationsAndDownloads()"
      ],
      "execution_count": 0,
      "outputs": []
    },
    {
      "metadata": {
        "id": "shUlQxuGD-ef",
        "colab_type": "code",
        "colab": {}
      },
      "cell_type": "code",
      "source": [
        "from lab3 import lena, ll2_norm,lh2_norm,hl2_norm,hh2_norm,lh1_norm,hl1_norm,hh1_norm,lh2_q,hl2_q,hh2_q,lh1_q,hl1_q,hh1_q,lena_q\n",
        "from lab3 import normalize \n",
        "from lab3 import entropies as haar_entropies\n",
        "from lab3 import compressRates as haar_compressRates\n",
        "from lab1 import psnr_entropy,getDistortion,shannonEntropy"
      ],
      "execution_count": 0,
      "outputs": []
    },
    {
      "metadata": {
        "id": "muGkOqdd4EkQ",
        "colab_type": "code",
        "colab": {}
      },
      "cell_type": "code",
      "source": [
        "def find5maxmin(input_matrix):\n",
        "  freqDict={}\n",
        "  uniques=np.unique(input_matrix)\n",
        "  for value in uniques:\n",
        "    freqDict[value]=(input_matrix==value).sum() / np.size(input_matrix)\n",
        "\n",
        "  min5=sorted(freqDict.items(),key=lambda item: item[1])[0:5]\n",
        "  max5=sorted(freqDict.items(),key=lambda item: item[1])[::-1][0:5]\n",
        "  return max5,min5\n",
        "max5=dict(find5maxmin(lena)[0])\n",
        "min5=dict(find5maxmin(lena)[1])"
      ],
      "execution_count": 0,
      "outputs": []
    },
    {
      "metadata": {
        "id": "3nWcmFTMu4Wi",
        "colab_type": "code",
        "colab": {
          "base_uri": "https://localhost:8080/",
          "height": 55
        },
        "outputId": "9f5b0f6d-44c0-4e4d-8f7e-768ebb5da261"
      },
      "cell_type": "code",
      "source": [
        "print(max5,min5)"
      ],
      "execution_count": 20,
      "outputs": [
        {
          "output_type": "stream",
          "text": [
            "{154: 0.010387420654296875, 155: 0.01026153564453125, 156: 0.010196685791015625, 153: 0.009960174560546875, 157: 0.009510040283203125} {25: 3.814697265625e-06, 235: 3.814697265625e-06, 238: 3.814697265625e-06, 244: 3.814697265625e-06, 245: 3.814697265625e-06}\n"
          ],
          "name": "stdout"
        }
      ]
    },
    {
      "metadata": {
        "id": "cWhPVDGq-vns",
        "colab_type": "code",
        "colab": {}
      },
      "cell_type": "code",
      "source": [
        "from heapq import heappush, heappop, heapify\n",
        "import pandas as pd\n",
        "class huffmanCode():\n",
        "  def __init__(self,input_matrix):\n",
        "    self.huffmanDict={}\n",
        "    self.codes=pd.DataFrame({'symbol':[],'weights':[],'huffmanCode':[]})\n",
        "    self.setHuffmanDict(input_matrix)\n",
        "    self.setCodes()\n",
        "  def setHuffmanDict(self,input_matrix):\n",
        "    freqDict={}\n",
        "    uniques=np.unique(input_matrix)\n",
        "    for value in uniques:\n",
        "      self.huffmanDict[value]=(input_matrix==value).sum() / np.size(input_matrix)\n",
        "  def setCodes(self):\n",
        "    \"\"\"Huffman encode the given dict mapping symbols to weights\"\"\"\n",
        "    heapQueue = [[wt, [sym, \"\"]] for sym, wt in self.huffmanDict.items()]#heap contains all the symbols (Nfreq, N elements in our queue)\n",
        "    heapify(heapQueue)\n",
        "    oldLen=len(heapQueue)\n",
        "    first=heapQueue[0]\n",
        "    last=heapQueue[1]\n",
        "    while len(heapQueue) > 1:#we keep dequeing until len==1, having one element with [freq 1 and all the [symbol,code]]\n",
        "        lo = heappop(heapQueue)#take first lowest frequency from the heap\n",
        "        hi = heappop(heapQueue)#take second\n",
        "        for pair in lo[1:]:\n",
        "            pair[1] = '0' + pair[1]#starts putting 0 as huffcode to first symbol\n",
        "        for pair in hi[1:]:\n",
        "            pair[1] = '1' + pair[1]\n",
        "        heappush(heapQueue, [lo[0] + hi[0]] + lo[1:] + hi[1:])#here pushes to the heap sortly by weight: (sum of their weights),[symbol1,code1],[symbol2,code2]\n",
        "#         if(len(heapQueue)==2): #print this condition if you want to have an idea on how it gets reduced\n",
        "#           print(heapQueue[0])\n",
        "#           print(heapQueue[1])\n",
        "        #first iteration pushes: [[7.62939453125e-06, [25, '0'], [245, '1']]]\n",
        "    sortCodes=sorted(heappop(heapQueue)[1:], key=lambda p: (len(p[1]),p))\n",
        "    for index,p in enumerate(sortCodes):\n",
        "      self.codes.loc[index]=[p[1], p[0],self.huffmanDict[p[0]]]\n",
        "huffman=huffmanCode(lena)#lets run it on lena"
      ],
      "execution_count": 0,
      "outputs": []
    },
    {
      "metadata": {
        "id": "TgiovI9xyAIt",
        "colab_type": "code",
        "colab": {
          "base_uri": "https://localhost:8080/",
          "height": 218
        },
        "outputId": "cc22f5a7-d5aa-4c6b-b514-8545ddc168c3"
      },
      "cell_type": "code",
      "source": [
        "print(len(huffman.codes))\n",
        "huffman.codes.tail()"
      ],
      "execution_count": 22,
      "outputs": [
        {
          "output_type": "stream",
          "text": [
            "215\n"
          ],
          "name": "stdout"
        },
        {
          "output_type": "execute_result",
          "data": {
            "text/html": [
              "<div>\n",
              "<style scoped>\n",
              "    .dataframe tbody tr th:only-of-type {\n",
              "        vertical-align: middle;\n",
              "    }\n",
              "\n",
              "    .dataframe tbody tr th {\n",
              "        vertical-align: top;\n",
              "    }\n",
              "\n",
              "    .dataframe thead th {\n",
              "        text-align: right;\n",
              "    }\n",
              "</style>\n",
              "<table border=\"1\" class=\"dataframe\">\n",
              "  <thead>\n",
              "    <tr style=\"text-align: right;\">\n",
              "      <th></th>\n",
              "      <th>huffmanCode</th>\n",
              "      <th>symbol</th>\n",
              "      <th>weights</th>\n",
              "    </tr>\n",
              "  </thead>\n",
              "  <tbody>\n",
              "    <tr>\n",
              "      <th>210</th>\n",
              "      <td>01101010011001100</td>\n",
              "      <td>245.0</td>\n",
              "      <td>0.000004</td>\n",
              "    </tr>\n",
              "    <tr>\n",
              "      <th>211</th>\n",
              "      <td>011010100110011010</td>\n",
              "      <td>25.0</td>\n",
              "      <td>0.000004</td>\n",
              "    </tr>\n",
              "    <tr>\n",
              "      <th>212</th>\n",
              "      <td>011010100110011011</td>\n",
              "      <td>235.0</td>\n",
              "      <td>0.000004</td>\n",
              "    </tr>\n",
              "    <tr>\n",
              "      <th>213</th>\n",
              "      <td>011010100110011100</td>\n",
              "      <td>238.0</td>\n",
              "      <td>0.000004</td>\n",
              "    </tr>\n",
              "    <tr>\n",
              "      <th>214</th>\n",
              "      <td>011010100110011101</td>\n",
              "      <td>244.0</td>\n",
              "      <td>0.000004</td>\n",
              "    </tr>\n",
              "  </tbody>\n",
              "</table>\n",
              "</div>"
            ],
            "text/plain": [
              "            huffmanCode  symbol   weights\n",
              "210   01101010011001100   245.0  0.000004\n",
              "211  011010100110011010    25.0  0.000004\n",
              "212  011010100110011011   235.0  0.000004\n",
              "213  011010100110011100   238.0  0.000004\n",
              "214  011010100110011101   244.0  0.000004"
            ]
          },
          "metadata": {
            "tags": []
          },
          "execution_count": 22
        }
      ]
    },
    {
      "metadata": {
        "id": "iy32GoIIwjId",
        "colab_type": "text"
      },
      "cell_type": "markdown",
      "source": [
        "https://scicomp.stackexchange.com/questions/10757/implement-the-huffman-code-in-python-or-numpy\n",
        "\n",
        "Let's prove that priority queue algorithm works fine by taking a look at the weights"
      ]
    },
    {
      "metadata": {
        "id": "tm6eAu5ugnFz",
        "colab_type": "code",
        "colab": {
          "base_uri": "https://localhost:8080/",
          "height": 728
        },
        "outputId": "6f1ab4d8-e43d-4732-8509-b2c4fcf4a98a"
      },
      "cell_type": "code",
      "source": [
        "for i in max5:\n",
        "  print(i)\n",
        "  found=huffman.codes[huffman.codes.symbol==i]\n",
        "  print(found)\n",
        "  print('len code:',len(found.huffmanCode.iloc[0]))\n",
        "  \n",
        "for i in min5:\n",
        "  print(i)\n",
        "  found=huffman.codes[huffman.codes.symbol==i]\n",
        "  print(found)\n",
        "  print('len code:',len(found.huffmanCode.iloc[0]))  "
      ],
      "execution_count": 23,
      "outputs": [
        {
          "output_type": "stream",
          "text": [
            "154\n",
            "   huffmanCode  symbol   weights\n",
            "66     1111010   154.0  0.010387\n",
            "len code: 7\n",
            "155\n",
            "   huffmanCode  symbol   weights\n",
            "67     1110111   155.0  0.010262\n",
            "len code: 7\n",
            "156\n",
            "   huffmanCode  symbol   weights\n",
            "68     1110110   156.0  0.010197\n",
            "len code: 7\n",
            "153\n",
            "   huffmanCode  symbol  weights\n",
            "65     1110100   153.0  0.00996\n",
            "len code: 7\n",
            "157\n",
            "   huffmanCode  symbol  weights\n",
            "69     1110000   157.0  0.00951\n",
            "len code: 7\n",
            "25\n",
            "            huffmanCode  symbol   weights\n",
            "211  011010100110011010    25.0  0.000004\n",
            "len code: 18\n",
            "235\n",
            "            huffmanCode  symbol   weights\n",
            "212  011010100110011011   235.0  0.000004\n",
            "len code: 18\n",
            "238\n",
            "            huffmanCode  symbol   weights\n",
            "213  011010100110011100   238.0  0.000004\n",
            "len code: 18\n",
            "244\n",
            "            huffmanCode  symbol   weights\n",
            "214  011010100110011101   244.0  0.000004\n",
            "len code: 18\n",
            "245\n",
            "           huffmanCode  symbol   weights\n",
            "210  01101010011001100   245.0  0.000004\n",
            "len code: 17\n"
          ],
          "name": "stdout"
        }
      ]
    },
    {
      "metadata": {
        "id": "ochelNgnOALT",
        "colab_type": "text"
      },
      "cell_type": "markdown",
      "source": [
        "build a Huffman code tree and, therefore, associate codewords to Haar\n",
        "wavelet coefficients in your **decomposition, depending on the probabilities\n",
        "of occurrence (or histogram of coefficients) (thus on the quantized haar)**"
      ]
    },
    {
      "metadata": {
        "id": "9gpFyeL3smMU",
        "colab_type": "code",
        "colab": {}
      },
      "cell_type": "code",
      "source": [
        "ll2_h=huffmanCode(ll2_norm).codes\n",
        "lh2_qh=huffmanCode(lh2_q).codes#lh2_q 7 quantization on lh2\n",
        "hl2_qh=huffmanCode(hl2_q).codes\n",
        "hh2_qh=huffmanCode(hh2_q).codes\n",
        "lh1_qh=huffmanCode(lh1_q).codes\n",
        "hl1_qh=huffmanCode(hl1_q).codes\n",
        "hh1_qh=huffmanCode(hh1_q).codes\n",
        "lena_qh=huffmanCode(lena_q).codes"
      ],
      "execution_count": 0,
      "outputs": []
    },
    {
      "metadata": {
        "colab_type": "code",
        "colab": {
          "base_uri": "https://localhost:8080/",
          "height": 159
        },
        "outputId": "efebbb5c-8b3d-4a44-cf24-a3eaffa61c79",
        "id": "ZJXbwKxGD14O"
      },
      "cell_type": "code",
      "source": [
        "def avgLength(df_codes):\n",
        "  codes=df_codes['huffmanCode']\n",
        "  codes=codes.apply(lambda x: len(x))#length codes\n",
        "  codes=codes*df_codes['weights']\n",
        "  return codes.sum()\n",
        "sh_ll2_qh=avgLength(ll2_h)\n",
        "sh_lh2_qh=avgLength(lh2_qh)\n",
        "sh_hl2_qh=avgLength(hl2_qh)\n",
        "sh_hh2_qh=avgLength(hh2_qh)\n",
        "sh_lh1_qh=avgLength(lh1_qh)\n",
        "sh_hl1_qh=avgLength(hl1_qh)\n",
        "sh_hh1_qh=avgLength(hh1_qh)\n",
        "# sh_lena_qh=avgLength(lena_qh)\n",
        "lengths=[sh_ll2_qh,sh_lh2_qh,sh_hl2_qh,sh_hh2_qh,sh_lh1_qh,sh_hl1_qh,sh_hh1_qh]\n",
        "# def computeTotalEntropy(array,original_matrix):\n",
        "#   np.size()\n",
        "#   for i in array:\n",
        "    \n",
        "sh_lena_qh=(sh_ll2_qh)*np.size(ll2_h)/np.size(lena)\n",
        "print('avg length codework (bits/symbol) huffman ll2:',sh_ll2_qh)\n",
        "print('avg length codework (bits/symbol) huffman lh2 quantized:',sh_lh2_qh)\n",
        "print('avg length codework (bits/symbol) huffman hl2 quantized:',sh_hl2_qh)\n",
        "print('avg length codework (bits/symbol) huffman hh2 quantized:',sh_hh2_qh)\n",
        "print('avg length codework (bits/symbol) huffman lh1 quantized:',sh_lh1_qh)\n",
        "print('avg length codework (bits/symbol) huffman hl1 quantized:',sh_hl1_qh)\n",
        "print('avg length codework (bits/symbol) huffman hh1 quantized:',sh_hh1_qh)\n",
        "print('avg length codework (bits/symbol) huffman lena quantized:',sh_lena_qh)\n",
        "entropies_hq=np.array([sh_ll2_qh,sh_lh2_qh,sh_hl2_qh,sh_hh2_qh,sh_lh1_qh,sh_hl1_qh,sh_hh1_qh,sh_lena_qh])"
      ],
      "execution_count": 25,
      "outputs": [
        {
          "output_type": "stream",
          "text": [
            "avg length codework (bits/symbol) huffman ll2: 11.27996826171875\n",
            "avg length codework (bits/symbol) huffman lh2 quantized: 4.2303466796875\n",
            "avg length codework (bits/symbol) huffman hl2 quantized: 3.87640380859375\n",
            "avg length codework (bits/symbol) huffman hh2 quantized: 3.073974609375\n",
            "avg length codework (bits/symbol) huffman lh1 quantized: 2.141754150390625\n",
            "avg length codework (bits/symbol) huffman hl1 quantized: 2.1814117431640625\n",
            "avg length codework (bits/symbol) huffman hh1 quantized: 1.68988037109375\n",
            "avg length codework (bits/symbol) huffman lena quantized: 0.37526170047931373\n"
          ],
          "name": "stdout"
        }
      ]
    },
    {
      "metadata": {
        "id": "0gGjW2EsmtQi",
        "colab_type": "text"
      },
      "cell_type": "markdown",
      "source": [
        "**Compute the total Huffman entropy compression ratio between\n",
        "quantized and non-quantized images.**\n",
        "Now she's asking to compute the non-quantized huffmanCodes and its entropies to compare ratios."
      ]
    },
    {
      "metadata": {
        "id": "WBL_mGPKKT38",
        "colab_type": "code",
        "colab": {}
      },
      "cell_type": "code",
      "source": [
        "ll2_h=huffmanCode(ll2_norm).codes#lh2_norm normalized lh2\n",
        "lh2_h=huffmanCode(lh2_norm).codes\n",
        "hl2_h=huffmanCode(hl2_norm).codes\n",
        "hh2_h=huffmanCode(hh2_norm).codes\n",
        "lh1_h=huffmanCode(lh1_norm).codes\n",
        "hl1_h=huffmanCode(hl1_norm).codes\n",
        "hh1_h=huffmanCode(hh1_norm).codes\n",
        "lena_h=huffmanCode(normalize(lena)).codes\n",
        "sh_ll2_h=avgLength(ll2_h)\n",
        "sh_lh2_h=avgLength(lh2_h)\n",
        "sh_hl2_h=avgLength(hl2_h)\n",
        "sh_hh2_h=avgLength(hh2_h)\n",
        "sh_lh1_h=avgLength(lh1_h)\n",
        "sh_hl1_h=avgLength(hl1_h)\n",
        "sh_hh1_h=avgLength(hh1_h)\n",
        "sh_lena_h=avgLength(lena_h)\n",
        "entropies_h=np.array([sh_ll2_h,sh_lh2_h,sh_hl2_h,sh_hh2_h,sh_lh1_h,sh_hl1_h,sh_hh1_h,sh_lena_h])"
      ],
      "execution_count": 0,
      "outputs": []
    },
    {
      "metadata": {
        "id": "1ib59toYp4gN",
        "colab_type": "code",
        "colab": {
          "base_uri": "https://localhost:8080/",
          "height": 88
        },
        "outputId": "13d3499b-e6ec-416d-c648-a938aefed0ed"
      },
      "cell_type": "code",
      "source": [
        "haar_entropies_h=np.concatenate((entropies_h,entropies_hq))#8 bits per symbol on original\n",
        "print(haar_entropies_h[8:])#non-quantized haar w/ huffman\n",
        "print(haar_entropies_h[8:])#quantized"
      ],
      "execution_count": 29,
      "outputs": [
        {
          "output_type": "stream",
          "text": [
            "[11.27996826  4.23034668  3.87640381  3.07397461  2.14175415  2.18141174\n",
            "  1.68988037  0.3752617 ]\n",
            "[11.27996826  4.23034668  3.87640381  3.07397461  2.14175415  2.18141174\n",
            "  1.68988037  0.3752617 ]\n"
          ],
          "name": "stdout"
        }
      ]
    },
    {
      "metadata": {
        "id": "IX2lBmfYtbrc",
        "colab_type": "code",
        "colab": {
          "base_uri": "https://localhost:8080/",
          "height": 88
        },
        "outputId": "b7f00691-3892-4172-9eec-619ce805e052"
      },
      "cell_type": "code",
      "source": [
        "print(haar_entropies[8:])#non-quantized haar\n",
        "print(haar_entropies[8:])"
      ],
      "execution_count": 30,
      "outputs": [
        {
          "output_type": "stream",
          "text": [
            "[1.12492164e+01 4.19588299e+00 3.84070036e+00 3.02343600e+00\n",
            " 5.86869705e+00 5.39444857e+00 4.80708200e+00 2.33618557e-05]\n",
            "[1.12492164e+01 4.19588299e+00 3.84070036e+00 3.02343600e+00\n",
            " 5.86869705e+00 5.39444857e+00 4.80708200e+00 2.33618557e-05]\n"
          ],
          "name": "stdout"
        }
      ]
    },
    {
      "metadata": {
        "id": "9037KVHSymA8",
        "colab_type": "text"
      },
      "cell_type": "markdown",
      "source": [
        "The entropy has reduced a lot applying huffman encoding compared to our previous results from uniform quantizer on the haar waveler from the previous lab."
      ]
    },
    {
      "metadata": {
        "id": "S3RiUzD2w4p5",
        "colab_type": "text"
      },
      "cell_type": "markdown",
      "source": [
        "Here we can see how the bits per symbol remains stable, but its fairly improved"
      ]
    },
    {
      "metadata": {
        "id": "zKOEk8reoIkm",
        "colab_type": "code",
        "colab": {
          "base_uri": "https://localhost:8080/",
          "height": 159
        },
        "outputId": "3cb27a4e-e4ab-48eb-d152-fc8e828bdfcb"
      },
      "cell_type": "code",
      "source": [
        "haar_compressRates_h=8/haar_entropies_h#original image with 8bps\n",
        "print(haar_compressRates_h[:8])\n",
        "print(haar_compressRates_h[8:])\n",
        "# print(-np.concatenate((entropies_h,entropies_hq)))\n",
        "print(haar_compressRates[:8])\n",
        "print(haar_compressRates[8:])"
      ],
      "execution_count": 33,
      "outputs": [
        {
          "output_type": "stream",
          "text": [
            "[0.70922185 0.9791357  1.07195315 1.1577469  1.35516256 1.47609422\n",
            " 1.65387406 1.0712074 ]\n",
            "[ 0.70922185  1.89109797  2.06376848  2.60249384  3.73525598  3.66734984\n",
            "  4.73406292 21.31845587]\n",
            "[0.71116064 0.98293684 1.07504928 1.16343267 1.36316459 1.48300608\n",
            " 1.66421126 1.3062994 ]\n",
            "[7.11160643e-01 1.90663086e+00 2.08295344e+00 2.64599615e+00\n",
            " 1.36316459e+00 1.48300608e+00 1.66421126e+00 3.42438550e+05]\n"
          ],
          "name": "stdout"
        }
      ]
    },
    {
      "metadata": {
        "id": "jf0pF8jxpnsE",
        "colab_type": "text"
      },
      "cell_type": "markdown",
      "source": [
        "The compress ratios remains the same on lower subbands and over the full haar, but it increases 3x on the upper subband. \n"
      ]
    },
    {
      "metadata": {
        "id": "eO9eSAojom1w",
        "colab_type": "code",
        "colab": {}
      },
      "cell_type": "code",
      "source": [
        "!apt-get install libgraphicsmagick++1-dev libboost-python-dev libopenjp2-7-dev libopenjp2-tools\n",
        "!wget https://www.imagemagick.org/download/ImageMagick.tar.gz\n",
        "!tar xf ImageMagick.tar.gz\n",
        "!cd ImageMagick-7* && ./configure && make && make install\n",
        "!ldconfig /usr/local/lib"
      ],
      "execution_count": 0,
      "outputs": []
    },
    {
      "metadata": {
        "id": "qtPRPbpL1_qN",
        "colab_type": "code",
        "colab": {
          "base_uri": "https://localhost:8080/",
          "height": 301
        },
        "outputId": "05a384ec-c17f-4719-bd77-5feeeb7013ff"
      },
      "cell_type": "code",
      "source": [
        "!pip install glymur pgmagick\n",
        "import glymur, pgmagick\n",
        "# from pgmagick import Image\n",
        "jp2file = glymur.data.nemo()# on glymur.data there's more jp2 to test\n",
        "# nemo=plt.imread(jp2file)\n",
        "# plt.imshow(nemo)\n",
        "# print(jp2file)\n",
        "# nemoImg=Image(jp2file)\n",
        "# nemoImg.write('nemo.jpeg')  # Output Image"
      ],
      "execution_count": 37,
      "outputs": [
        {
          "output_type": "stream",
          "text": [
            "Collecting glymur\n",
            "\u001b[?25l  Downloading https://files.pythonhosted.org/packages/bf/de/711cc76ba37a476d50b744d7e36a1491d65c9a64baae469bea63cbcb4611/Glymur-0.8.16.tar.gz (3.4MB)\n",
            "\u001b[K    100% |████████████████████████████████| 3.4MB 6.0MB/s \n",
            "\u001b[?25hCollecting pgmagick\n",
            "\u001b[?25l  Downloading https://files.pythonhosted.org/packages/a6/80/e5cae1bf9f0078cb7a7f599c487babb26c01ce3ac3c2537c8f0fa48356be/pgmagick-0.7.4.tar.gz (362kB)\n",
            "\u001b[K    100% |████████████████████████████████| 368kB 16.4MB/s \n",
            "\u001b[?25hRequirement already satisfied: numpy>=1.7.1 in /usr/local/lib/python3.6/dist-packages (from glymur) (1.14.6)\n",
            "Requirement already satisfied: setuptools in /usr/local/lib/python3.6/dist-packages (from glymur) (39.1.0)\n",
            "Building wheels for collected packages: glymur, pgmagick\n",
            "  Running setup.py bdist_wheel for glymur ... \u001b[?25l-\b \b\\\b \b|\b \bdone\n",
            "\u001b[?25h  Stored in directory: /root/.cache/pip/wheels/5d/4e/87/97ddd8c62b87e39ffae13c25602d0047faa96ff659021249c0\n",
            "  Running setup.py bdist_wheel for pgmagick ... \u001b[?25l-\b \b\\\b \b|\b \b/\b \b-\b \b\\\b \b|\b \b/\b \b-\b \b\\\b \b|\b \b/\b \b-\b \b\\\b \b|\b \b/\b \b-\b \b\\\b \b|\b \b/\b \b-\b \b\\\b \b|\b \b/\b \b-\b \b\\\b \b|\b \b/\b \b-\b \b\\\b \b|\b \b/\b \b-\b \b\\\b \b|\b \b/\b \b-\b \b\\\b \b|\b \b/\b \b-\b \b\\\b \b|\b \b/\b \b-\b \b\\\b \b|\b \b/\b \b-\b \b\\\b \b|\b \b/\b \b-\b \b\\\b \b|\b \b/\b \b-\b \b\\\b \b|\b \b/\b \b-\b \b\\\b \b|\b \b/\b \b-\b \b\\\b \b|\b \b/\b \b-\b \b\\\b \b|\b \b/\b \b-\b \b\\\b \b|\b \b/\b \b-\b \b\\\b \b|\b \b/\b \b-\b \b\\\b \b|\b \b/\b \b-\b \b\\\b \b|\b \b/\b \b-\b \b\\\b \b|\b \b/\b \b-\b \b\\\b \b|\b \b/\b \b-\b \b\\\b \b|\b \b/\b \b-\b \b\\\b \b|\b \b/\b \b-\b \b\\\b \b|\b \b/\b \b-\b \b\\\b \b|\b \b/\b \b-\b \b\\\b \b|\b \bdone\n",
            "\u001b[?25h  Stored in directory: /root/.cache/pip/wheels/02/51/cf/782c678ad1be3168fc0aa06e48959dbf0b64994b4e47ae796e\n",
            "Successfully built glymur pgmagick\n",
            "Installing collected packages: glymur, pgmagick\n",
            "Successfully installed glymur-0.8.16 pgmagick-0.7.4\n"
          ],
          "name": "stdout"
        }
      ]
    },
    {
      "metadata": {
        "id": "v52TPOf2Gpmu",
        "colab_type": "code",
        "colab": {}
      },
      "cell_type": "code",
      "source": [
        "# https://www.howtogeek.com/109369/how-to-quickly-resize-convert-modify-images-from-the-linux-terminal/"
      ],
      "execution_count": 0,
      "outputs": []
    },
    {
      "metadata": {
        "id": "DQpuEsxn9BIa",
        "colab_type": "code",
        "colab": {
          "base_uri": "https://localhost:8080/",
          "height": 124
        },
        "outputId": "1f529667-20cd-421b-a06e-b4b5d5a1d0dd"
      },
      "cell_type": "code",
      "source": [
        "!cp /usr/local/lib/python3.6/dist-packages/glymur/data/nemo.jp2 im_nemo.jp2\n",
        "!convert -quality 100 im_nemo.jp2 nemo100.jpg #default is 92 quality on convert command, np.max == 255, min==0 --> R=8\n",
        "!convert -quality 80 im_nemo.jp2 nemo80.jpg #default is 92 quality\n",
        "!convert -quality 60 im_nemo.jp2 nemo60.jpg #default is 92 quality\n",
        "!convert -quality 40 im_nemo.jp2 nemo40.jpg #default is 92 quality\n",
        "!convert -quality 20 im_nemo.jp2 nemo20.jpg #default is 92 quality\n",
        "!ls -lh | grep nemo"
      ],
      "execution_count": 127,
      "outputs": [
        {
          "output_type": "stream",
          "text": [
            "-rw-r--r--  1 root root    1.1M Oct 17 00:17 im_nemo.jp2\n",
            "-rw-r--r--  1 root root    4.0M Oct 17 00:17 nemo100.jpg\n",
            "-rw-r--r--  1 root root    260K Oct 17 00:17 nemo20.jpg\n",
            "-rw-r--r--  1 root root    403K Oct 17 00:17 nemo40.jpg\n",
            "-rw-r--r--  1 root root    531K Oct 17 00:17 nemo60.jpg\n",
            "-rw-r--r--  1 root root    815K Oct 17 00:17 nemo80.jpg\n"
          ],
          "name": "stdout"
        }
      ]
    },
    {
      "metadata": {
        "id": "UrcaV5HTInQg",
        "colab_type": "code",
        "colab": {
          "base_uri": "https://localhost:8080/",
          "height": 518
        },
        "outputId": "8eb0ceb4-ec9f-48d9-ddb1-c62edb92e8e1"
      },
      "cell_type": "code",
      "source": [
        "# nemo100=plt.imread('nemo100.jpg')#supposedly to be lossless\n",
        "# plt.imshow(nemo100)\n",
        "import re\n",
        "def psnr_entropy(file_name,format):\n",
        "  list_files_aux={}\n",
        "  list_files={}\n",
        "  for file in os.listdir():\n",
        "    if(file.endswith(format) and file.startswith(file_name)):\n",
        "      quality=int(re.findall(r'\\d+',file)[0])\n",
        "      list_files_aux[quality]=file\n",
        "  for key in sorted(list_files_aux):\n",
        "    list_files[key]=list_files_aux[key]\n",
        "  entropies=[]\n",
        "  psnr_ratios=[]\n",
        "  for index,file in enumerate(list_files.values()):\n",
        "    image=plt.imread(file)\n",
        "    print(file,image.shape)\n",
        "    entropies.append(shannonEntropy(image))\n",
        "    psnr_ratios.append(10*np.log10((255**2)/entropies[index]))\n",
        "  plt.figure()\n",
        "  plt.title('psnr_entropy')\n",
        "  plt.xlabel('shannon Entropies entropies on qualities ('+' '.join([str(key) for key in sorted(list_files_aux)])+')')\n",
        "  plt.ylabel('psnr ratios')\n",
        "  plt.plot(entropies,psnr_ratios)\n",
        "  print('quality results order shown below',sorted(list_files_aux))\n",
        "  print('shannon',entropies)\n",
        "  print('psnr',psnr_ratios)\n",
        "psnr_entropy('nemo','jpg')"
      ],
      "execution_count": 136,
      "outputs": [
        {
          "output_type": "stream",
          "text": [
            "nemo20.jpg (1456, 2592, 3)\n",
            "nemo40.jpg (1456, 2592, 3)\n",
            "nemo60.jpg (1456, 2592, 3)\n",
            "nemo80.jpg (1456, 2592, 3)\n",
            "nemo100.jpg (1456, 2592, 3)\n",
            "quality results order shown below [20, 40, 60, 80, 100]\n",
            "shannon [7.534597622903865, 7.556165037064537, 7.575730389554403, 7.583205069547927, 7.5752645448369025]\n",
            "psnr [39.36020296628485, 39.34778925924137, 39.33655850576535, 39.33227560272506, 39.33682556913799]\n"
          ],
          "name": "stdout"
        },
        {
          "output_type": "display_data",
          "data": {
            "image/png": "[encoded data removed]",
            "text/plain": [
              "<matplotlib.figure.Figure at 0x7f406a3505f8>"
            ]
          },
          "metadata": {
            "tags": []
          }
        }
      ]
    },
    {
      "metadata": {
        "id": "JX1LUDpKU7GT",
        "colab_type": "text"
      },
      "cell_type": "markdown",
      "source": [
        "The higher PSNR ratio the better..??\n",
        "\n",
        "Our results show that the lower the quality we do the conversion from jp2 to jpeg the better PSNR ratio and entropy (higher and lower, respectively). But with so little difference. **LUCA, try with other pics perhaps** "
      ]
    },
    {
      "metadata": {
        "id": "ihUmHwnwVK_o",
        "colab_type": "code",
        "colab": {
          "base_uri": "https://localhost:8080/",
          "height": 106
        },
        "outputId": "1fa4ceea-5ba2-404d-ab91-d1d07394be69"
      },
      "cell_type": "code",
      "source": [
        "!convert -quality 100 im_nemo.jp2 nemo100.jp2 #default is 92 quality, np.max == 255, min==0 --> R=8\n",
        "!convert -quality 80 im_nemo.jp2 nemo80.jp2 #default is 92 quality\n",
        "!convert -quality 60 im_nemo.jp2 nemo60.jp2 #default is 92 quality\n",
        "!convert -quality 40 im_nemo.jp2 nemo40.jp2 #default is 92 quality\n",
        "!convert -quality 20 im_nemo.jp2 nemo20.jp2 #default is 92 quality\n",
        "!ls -lh |grep 0.jp2"
      ],
      "execution_count": 133,
      "outputs": [
        {
          "output_type": "stream",
          "text": [
            "-rw-r--r--  1 root root    2.3M Oct 17 00:18 nemo100.jp2\n",
            "-rw-r--r--  1 root root    8.2K Oct 17 00:18 nemo20.jp2\n",
            "-rw-r--r--  1 root root    855K Oct 17 00:18 nemo40.jp2\n",
            "-rw-r--r--  1 root root    2.0M Oct 17 00:18 nemo60.jp2\n",
            "-rw-r--r--  1 root root    2.2M Oct 17 00:18 nemo80.jp2\n"
          ],
          "name": "stdout"
        }
      ]
    },
    {
      "metadata": {
        "id": "DdzRPvFkVaUF",
        "colab_type": "code",
        "colab": {
          "base_uri": "https://localhost:8080/",
          "height": 518
        },
        "outputId": "49fea5c0-35ed-49af-ff2f-fa2f729efd13"
      },
      "cell_type": "code",
      "source": [
        "psnr_entropy('nemo','jp2')"
      ],
      "execution_count": 137,
      "outputs": [
        {
          "output_type": "stream",
          "text": [
            "nemo20.jp2 (1456, 2592, 3)\n",
            "nemo40.jp2 (1456, 2592, 3)\n",
            "nemo60.jp2 (1456, 2592, 3)\n",
            "nemo80.jp2 (1456, 2592, 3)\n",
            "nemo100.jp2 (1456, 2592, 3)\n",
            "quality results order shown below [20, 40, 60, 80, 100]\n",
            "shannon [7.4456523917940185, 7.581842765149187, 7.576709246558625, 7.564249858905024, 7.5639570527806175]\n",
            "psnr [39.41177604012347, 39.333055872317466, 39.33599739190342, 39.34314495037648, 39.3433130655865]\n"
          ],
          "name": "stdout"
        },
        {
          "output_type": "display_data",
          "data": {
            "image/png": "[encoded data removed]",
            "text/plain": [
              "<matplotlib.figure.Figure at 0x7f4065747160>"
            ]
          },
          "metadata": {
            "tags": []
          }
        }
      ]
    },
    {
      "metadata": {
        "id": "w4FzxtzJ-59o",
        "colab_type": "code",
        "colab": {}
      },
      "cell_type": "code",
      "source": [
        "# !identify -list format\n"
      ],
      "execution_count": 0,
      "outputs": []
    },
    {
      "metadata": {
        "id": "PNg9LGBMnIhg",
        "colab_type": "text"
      },
      "cell_type": "markdown",
      "source": [
        "# **Export as latex project**"
      ]
    },
    {
      "metadata": {
        "id": "NcxCMx83_C0K",
        "colab_type": "code",
        "colab": {}
      },
      "cell_type": "code",
      "source": [
        "from google.colab import files\n",
        "!apt install pandoc\n",
        "!pip install pandoc\n",
        "!git clone https://github.com/alvarogg777/colabCompression.git\n",
        "!jupyter nbconvert colabCompression/Compress_Lab4.ipynb --to latex\n",
        "!zip colabCompression/Compress_Lab4*\n",
        "files.download('colabCompression/Compress_Lab4_files.zip')"
      ],
      "execution_count": 0,
      "outputs": []
    }
  ]
}